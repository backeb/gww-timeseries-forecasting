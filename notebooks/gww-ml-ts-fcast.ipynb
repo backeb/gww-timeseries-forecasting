{
 "cells": [
  {
   "cell_type": "markdown",
   "metadata": {},
   "source": [
    "# testing ML based forecasting of global water watch timeseries using autogluon\n",
    "https://auto.gluon.ai/stable/tutorials/timeseries/forecasting-quickstart.html"
   ]
  },
  {
   "cell_type": "markdown",
   "metadata": {},
   "source": [
    "# import libaries for gww "
   ]
  },
  {
   "cell_type": "code",
   "execution_count": null,
   "metadata": {},
   "outputs": [],
   "source": [
    "import geopandas as gpd\n",
    "import json\n",
    "import matplotlib.pyplot as plt\n",
    "import numpy as np\n",
    "import pandas as pd\n",
    "import requests\n",
    "import cartopy\n",
    "import cartopy.io.img_tiles as cimgt\n",
    "import cartopy.crs as ccrs\n",
    "import datetime\n",
    "\n",
    "from dateutil.relativedelta import relativedelta\n",
    "from scipy import stats\n",
    "from shapely.geometry import shape, box, mapping\n",
    "\n",
    "base_url = \"https://api.globalwaterwatch.earth\"\n",
    "start = datetime.datetime(2021, 1, 1)\n",
    "stop = datetime.datetime(2022, 1, 1)"
   ]
  },
  {
   "cell_type": "markdown",
   "metadata": {},
   "source": [
    "# define helper functions to use with gww api"
   ]
  },
  {
   "cell_type": "code",
   "execution_count": null,
   "metadata": {},
   "outputs": [],
   "source": [
    "def to_geopandas(data):\n",
    "    \"\"\"\n",
    "    Ingests list of reservoirs and converts into a geopandas GeoDataFrame for further analyses\n",
    "    \n",
    "    \"\"\"\n",
    "    geoms = [shape(f[\"geometry\"]) for f in data]\n",
    "    props = [{**f[\"properties\"], **{\"id\": f[\"id\"]}} for f in data]\n",
    "    return gpd.GeoDataFrame(props, geometry=geoms, crs=4326)\n",
    "\n",
    "def get_reservoirs(skip=1, limit=5, base_url=base_url):\n",
    "    \"\"\"\n",
    "    Gets reservoirs from API. Return dict with IDs.\n",
    "    \n",
    "    \"\"\"\n",
    "    url = f\"{base_url}/reservoir\"\n",
    "    params = {\n",
    "        \"skip\": skip,\n",
    "        \"limit\": limit,\n",
    "    }\n",
    "    return requests.get(url, params=params)\n",
    "\n",
    "\n",
    "def get_reservoir(reservoir_id):\n",
    "    \"\"\"\n",
    "    Get reservoir (geometry and props) by ID\n",
    "    \"\"\"\n",
    "    url = f\"{base_url}/reservoir/{reservoir_id}\"\n",
    "    return requests.get(url)\n",
    "    \n",
    "\n",
    "def get_reservoirs_by_geom(geom, base_url=base_url):\n",
    "    \"\"\"\n",
    "    Gets reservoirs from API. Return dict with IDs.\n",
    "    \n",
    "    \"\"\"\n",
    "    url = f\"{base_url}/reservoir/geometry\"\n",
    "    # do post request to end point with the serialized geometry as post data\n",
    "    return requests.post(url, data=geom)\n",
    "\n",
    "\n",
    "def get_reservoir_ts(reservoir_id, start=start, stop=stop):\n",
    "    \"\"\"\n",
    "    Get time series data for reservoir with given ID\n",
    "    \"\"\"\n",
    "    url = f\"{base_url}/reservoir/{reservoir_id}/ts\"\n",
    "    params = {\n",
    "        \"start\": start.strftime(\"%Y-%m-%dT%H:%M:%S\"),\n",
    "        \"stop\": stop.strftime(\"%Y-%m-%dT%H:%M:%S\")\n",
    "    }\n",
    "    return requests.get(url, params=params)\n",
    "    \n",
    "    \n",
    "def plot_features_map(feats, ax=None, figsize=(20, 13), tiles=None, zoom_level=1, tiles_kwargs={}, **kwargs):\n",
    "    \"\"\"\n",
    "    add a set of features to a GeoAxes map\n",
    "    \"\"\"\n",
    "    if ax is None:\n",
    "        f = plt.figure(figsize=figsize)\n",
    "        if tiles is not None:\n",
    "            tiler = getattr(cimgt, tiles)(**tiles_kwargs)\n",
    "            crs = tiler.crs\n",
    "        else:\n",
    "            crs = ccrs.PlateCarree()\n",
    "        # make point collection\n",
    "        ax = plt.subplot(projection=crs)\n",
    "        if tiles is not None:\n",
    "            ax.add_image(tiler, zoom_level, zorder=1)\n",
    "            feats.to_crs(3857).plot(ax=ax, zorder=2, **kwargs)\n",
    "        else:\n",
    "            feats.plot(ax=ax, **kwargs)\n",
    "    return ax"
   ]
  },
  {
   "cell_type": "markdown",
   "metadata": {},
   "source": [
    "# retrieve data for reservoir id"
   ]
  },
  {
   "cell_type": "code",
   "execution_count": null,
   "metadata": {},
   "outputs": [],
   "source": [
    "def to_timeseries(data, name=None):\n",
    "    \"\"\"\n",
    "    Convert raw list of jsons to organized pandas.DataFrame\n",
    "    \"\"\"\n",
    "    if name is None:\n",
    "        name = \"area\"\n",
    "\n",
    "    t_index = [p[\"t\"] for p in data]\n",
    "    v = [{name: p[\"value\"]} for p in data]\n",
    "    pd.DatetimeIndex(t_index)\n",
    "    return pd.DataFrame(\n",
    "        v,\n",
    "        index=pd.DatetimeIndex(t_index)\n",
    "    )\n",
    "\n",
    "\n",
    "# input parameters to get timeseries data for a specific reservoir\n",
    "s = datetime.datetime(1991, 11, 29)\n",
    "e = datetime.datetime(2016, 1, 18)\n",
    "reservoir_id = 87663 # https://www.globalwaterwatch.earth/reservoir/87663\n",
    "\n",
    "# retrieve data for specific reservoir\n",
    "r = get_reservoir_ts(reservoir_id, start=s, stop=e)\n",
    "\n",
    "# again, raw data are not easy to process, so we have a nice function to convert to pandas\n",
    "df = to_timeseries(r.json())\n",
    "ax = plt.subplot(111)\n",
    "df.plot(ax=ax, linewidth=0., marker=\".\", label=\"raw\")\n",
    "\n",
    "# let's also compute the monthly means so that we can more easily compare against other reservoirs\n",
    "df_mean = df.resample(\"MS\").mean()\n",
    "df_mean.plot(ax=ax, marker=\".\", linewidth=0, label=\"monthly mean\")\n",
    "ax.grid()\n",
    "ax.legend([\"raw\", \"monthly mean\"])\n",
    "\n"
   ]
  },
  {
   "attachments": {},
   "cell_type": "markdown",
   "metadata": {},
   "source": [
    "# first autogluon test\n",
    "https://auto.gluon.ai/stable/index.html"
   ]
  },
  {
   "cell_type": "code",
   "execution_count": null,
   "metadata": {},
   "outputs": [
    {
     "ename": "",
     "evalue": "",
     "output_type": "error",
     "traceback": [
      "\u001b[1;31mFailed to start the Kernel. \n",
      "\u001b[1;31mJupyter server crashed. Unable to connect. \n",
      "\u001b[1;31mError code from Jupyter: 1\n",
      "\u001b[1;31musage: jupyter.py [-h] [--version] [--config-dir] [--data-dir] [--runtime-dir]\n",
      "\u001b[1;31m                  [--paths] [--json] [--debug]\n",
      "\u001b[1;31m                  [subcommand]\n",
      "\u001b[1;31m\n",
      "\u001b[1;31mJupyter: Interactive Computing\n",
      "\u001b[1;31m\n",
      "\u001b[1;31mpositional arguments:\n",
      "\u001b[1;31m  subcommand     the subcommand to launch\n",
      "\u001b[1;31m\n",
      "\u001b[1;31moptional arguments:\n",
      "\u001b[1;31m  -h, --help     show this help message and exit\n",
      "\u001b[1;31m  --version      show the versions of core jupyter packages and exit\n",
      "\u001b[1;31m  --config-dir   show Jupyter config dir\n",
      "\u001b[1;31m  --data-dir     show Jupyter data dir\n",
      "\u001b[1;31m  --runtime-dir  show Jupyter runtime dir\n",
      "\u001b[1;31m  --paths        show all Jupyter paths. Add --json for machine-readable\n",
      "\u001b[1;31m                 format.\n",
      "\u001b[1;31m  --json         output paths as machine-readable json\n",
      "\u001b[1;31m  --debug        output debug information about paths\n",
      "\u001b[1;31m\n",
      "\u001b[1;31mAvailable subcommands: kernel kernelspec migrate run troubleshoot\n",
      "\u001b[1;31m\n",
      "\u001b[1;31mJupyter command `jupyter-notebook` not found. \n",
      "\u001b[1;31mView Jupyter <a href='command:jupyter.viewOutput'>log</a> for further details."
     ]
    }
   ],
   "source": [
    "# Install autogluon\n",
    "mamba create -n ag autogluon python -c conda-forge"
   ]
  },
  {
   "cell_type": "markdown",
   "metadata": {},
   "source": [
    "## import libraries for autogluon"
   ]
  },
  {
   "cell_type": "code",
   "execution_count": 1,
   "metadata": {},
   "outputs": [
    {
     "name": "stderr",
     "output_type": "stream",
     "text": [
      "/Users/backeb/mambaforge/envs/ag/lib/python3.9/site-packages/autogluon/timeseries/__init__.py:36: UserWarning: autogluon.timeseries depends on sktime version >=0.13.1 and <0.14, although 0.15.1 was found. sktime features will be disabled.\n",
      "  warnings.warn(\n",
      "/Users/backeb/mambaforge/envs/ag/lib/python3.9/site-packages/tqdm/auto.py:22: TqdmWarning: IProgress not found. Please update jupyter and ipywidgets. See https://ipywidgets.readthedocs.io/en/stable/user_install.html\n",
      "  from .autonotebook import tqdm as notebook_tqdm\n"
     ]
    }
   ],
   "source": [
    "from autogluon.timeseries import TimeSeriesDataFrame, TimeSeriesPredictor"
   ]
  },
  {
   "cell_type": "code",
   "execution_count": null,
   "metadata": {},
   "outputs": [],
   "source": [
    "df = pd.DataFrame(data=(df.index,df.area.values),index=['date','area']).T\n",
    "df\n"
   ]
  },
  {
   "cell_type": "code",
   "execution_count": null,
   "metadata": {},
   "outputs": [],
   "source": [
    "# get era5 data"
   ]
  },
  {
   "cell_type": "markdown",
   "metadata": {},
   "source": []
  }
 ],
 "metadata": {
  "kernelspec": {
   "display_name": "ag",
   "language": "python",
   "name": "python3"
  },
  "language_info": {
   "codemirror_mode": {
    "name": "ipython",
    "version": 3
   },
   "file_extension": ".py",
   "mimetype": "text/x-python",
   "name": "python",
   "nbconvert_exporter": "python",
   "pygments_lexer": "ipython3",
   "version": "3.9.15"
  },
  "vscode": {
   "interpreter": {
    "hash": "b514135c5e035b37557e3f6bce5f4fb6f14a944b0fa5da43860619d2011bc2ad"
   }
  }
 },
 "nbformat": 4,
 "nbformat_minor": 2
}
